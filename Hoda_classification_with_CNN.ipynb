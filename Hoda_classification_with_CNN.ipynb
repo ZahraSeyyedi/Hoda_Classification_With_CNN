{
  "nbformat": 4,
  "nbformat_minor": 0,
  "metadata": {
    "colab": {
      "provenance": []
    },
    "kernelspec": {
      "name": "python3",
      "display_name": "Python 3"
    },
    "language_info": {
      "name": "python"
    },
    "gpuClass": "standard",
    "accelerator": "GPU"
  },
  "cells": [
    {
      "cell_type": "code",
      "source": [
        "!git clone https://github.com/amir-saniyan/HodaDatasetReader.git\n"
      ],
      "metadata": {
        "colab": {
          "base_uri": "https://localhost:8080/"
        },
        "id": "sQzk_DcZUbi-",
        "outputId": "34e5e29a-0dc3-46db-8c39-e45e6afd171a"
      },
      "execution_count": 1,
      "outputs": [
        {
          "output_type": "stream",
          "name": "stdout",
          "text": [
            "Cloning into 'HodaDatasetReader'...\n",
            "remote: Enumerating objects: 24, done.\u001b[K\n",
            "remote: Total 24 (delta 0), reused 0 (delta 0), pack-reused 24\u001b[K\n",
            "Receiving objects: 100% (24/24), 6.34 MiB | 18.61 MiB/s, done.\n",
            "Resolving deltas: 100% (6/6), done.\n"
          ]
        }
      ]
    },
    {
      "cell_type": "code",
      "execution_count": 2,
      "metadata": {
        "id": "o5T86VCHTefI"
      },
      "outputs": [],
      "source": [
        "import numpy as np\n",
        "import tensorflow as tf\n",
        "from tensorflow.keras.models import Model\n",
        "from tensorflow.keras.layers import Input, Dense, Conv2D, ReLU, BatchNormalization, MaxPool2D, Flatten, Dropout\n",
        "import matplotlib.pyplot as plt\n",
        "from HodaDatasetReader.HodaDatasetReader import read_hoda_dataset"
      ]
    },
    {
      "cell_type": "code",
      "source": [
        "X_train, y_train = read_hoda_dataset(\"/content/HodaDatasetReader/DigitDB/Train 60000.cdb\")\n",
        "X_test, y_test = read_hoda_dataset(\"/content/HodaDatasetReader/DigitDB/Test 20000.cdb\")"
      ],
      "metadata": {
        "id": "WwKOATZqT1OZ"
      },
      "execution_count": 3,
      "outputs": []
    },
    {
      "cell_type": "code",
      "source": [
        "X_train = X_train.reshape(60000, 32, 32, 1)\n",
        "X_test = X_test.reshape(20000, 32, 32, 1)\n",
        "num_classes = len(set(y_train))"
      ],
      "metadata": {
        "id": "kgNBBgzJT3LP"
      },
      "execution_count": 4,
      "outputs": []
    },
    {
      "cell_type": "code",
      "source": [
        "inputs = X_train.shape[1:]\n",
        "\n",
        "X_train.shape[1:]"
      ],
      "metadata": {
        "id": "F1t1kqe3T5ZA",
        "colab": {
          "base_uri": "https://localhost:8080/"
        },
        "outputId": "fc139c39-b84a-4b62-e256-b0885db79bbd"
      },
      "execution_count": 5,
      "outputs": [
        {
          "output_type": "execute_result",
          "data": {
            "text/plain": [
              "(32, 32, 1)"
            ]
          },
          "metadata": {},
          "execution_count": 5
        }
      ]
    },
    {
      "cell_type": "code",
      "source": [
        "inputs = tf.keras.layers.Input(shape=X_train.shape[1:])\n",
        "\n",
        "layer_1 = Conv2D(128, kernel_size=3, activation='relu', padding=\"same\",\n",
        "                 kernel_initializer=\"he_normal\")(inputs)\n",
        "\n",
        "layer_2 = BatchNormalization()(layer_1)\n",
        "\n",
        "layer_3 = Conv2D(128, kernel_size=3, activation='relu', padding=\"same\",\n",
        "                 kernel_initializer=\"he_normal\")(layer_2)\n",
        "\n",
        "layer_4 = BatchNormalization()(layer_3)\n",
        "\n",
        "layer_5 = Conv2D(128, kernel_size=3, activation='relu', padding=\"same\",\n",
        "                  kernel_initializer=\"he_normal\")(layer_4)\n",
        "\n",
        "layer_6 = BatchNormalization()(layer_5)\n",
        "\n",
        "layer_7 = Conv2D(128, kernel_size=3, activation='relu', padding=\"same\",\n",
        "                  kernel_initializer=\"he_normal\")(layer_6)\n",
        "\n",
        "layer_8 = BatchNormalization()(layer_7)\n",
        "layer_9 = MaxPool2D()(layer_8)\n",
        "layer_10 = Dropout(0.7)(layer_9)\n",
        "\n",
        "\n",
        "\n",
        "\n",
        "layer_11 = Conv2D(256, kernel_size=3, activation='relu', padding=\"same\",\n",
        "                  kernel_initializer=\"he_normal\")(layer_10)\n",
        "\n",
        "layer_12 = BatchNormalization()(layer_11)\n",
        "\n",
        "layer_13 = Conv2D(256, kernel_size=3, activation='relu', padding=\"same\",\n",
        "                  kernel_initializer=\"he_normal\")(layer_12)\n",
        "\n",
        "layer_14 = BatchNormalization()(layer_13)\n",
        "\n",
        "layer_15 = Conv2D(256, kernel_size=3, activation='relu', padding=\"same\",\n",
        "                  kernel_initializer=\"he_normal\")(layer_14)\n",
        "\n",
        "layer_16 = BatchNormalization()(layer_15)\n",
        "\n",
        "layer_17 = Conv2D(256, kernel_size=3, activation='relu', padding=\"same\",\n",
        "                  kernel_initializer=\"he_normal\")(layer_16)\n",
        "\n",
        "layer_18 = BatchNormalization()(layer_17)\n",
        "layer_19 = MaxPool2D()(layer_18)\n",
        "layer_20 = Dropout(0.7)(layer_19)\n",
        "\n",
        "\n",
        "\n",
        "\n",
        "layer_21 = Conv2D(256, kernel_size=3, activation='relu', padding=\"same\",\n",
        "                  kernel_initializer=\"he_normal\")(layer_20)\n",
        "\n",
        "layer_22 = BatchNormalization()(layer_21)\n",
        "\n",
        "layer_23 = Conv2D(256, kernel_size=3, activation='relu', padding=\"same\",\n",
        "                  kernel_initializer=\"he_normal\")(layer_22)\n",
        "\n",
        "layer_24 = BatchNormalization()(layer_23)\n",
        "\n",
        "layer_25 = Conv2D(256, kernel_size=3, activation='relu', padding=\"same\",\n",
        "                  kernel_initializer=\"he_normal\")(layer_24)\n",
        "\n",
        "layer_26 = BatchNormalization()(layer_25)\n",
        "\n",
        "layer_27 = Conv2D(256, kernel_size=3, activation='relu', padding=\"same\",\n",
        "                  kernel_initializer=\"he_normal\")(layer_26)\n",
        "\n",
        "layer_28 = BatchNormalization()(layer_27)\n",
        "layer_29 = MaxPool2D()(layer_28)\n",
        "layer_30 = Dropout(0.7)(layer_29)\n",
        "\n",
        "\n",
        "\n",
        "\n",
        "layer_31 = Flatten()(layer_30)\n",
        "layer_32 = Dense(128, activation='relu',\n",
        "                 kernel_initializer=\"he_normal\")(layer_31)\n",
        "layer_33 = BatchNormalization()(layer_32)\n",
        "layer_34 = Dropout(0.5)(layer_33)\n",
        "outputs = Dense(num_classes, activation=\"softmax\")(layer_34)\n",
        "\n",
        "model = Model(inputs=inputs, outputs=outputs)"
      ],
      "metadata": {
        "id": "Vpc6Em51T7mT"
      },
      "execution_count": 6,
      "outputs": []
    },
    {
      "cell_type": "code",
      "source": [
        "model.compile(loss=\"sparse_categorical_crossentropy\",\n",
        "              optimizer='adam', metrics=[\"accuracy\"])"
      ],
      "metadata": {
        "id": "-5asSMUDT-rH"
      },
      "execution_count": 7,
      "outputs": []
    },
    {
      "cell_type": "code",
      "source": [
        "model.summary()"
      ],
      "metadata": {
        "id": "V3yyq-VQUBu5",
        "colab": {
          "base_uri": "https://localhost:8080/"
        },
        "outputId": "153d73c9-9221-451d-f0a9-a4df57d9d0b0"
      },
      "execution_count": 8,
      "outputs": [
        {
          "output_type": "stream",
          "name": "stdout",
          "text": [
            "Model: \"model\"\n",
            "_________________________________________________________________\n",
            " Layer (type)                Output Shape              Param #   \n",
            "=================================================================\n",
            " input_1 (InputLayer)        [(None, 32, 32, 1)]       0         \n",
            "                                                                 \n",
            " conv2d (Conv2D)             (None, 32, 32, 128)       1280      \n",
            "                                                                 \n",
            " batch_normalization (BatchN  (None, 32, 32, 128)      512       \n",
            " ormalization)                                                   \n",
            "                                                                 \n",
            " conv2d_1 (Conv2D)           (None, 32, 32, 128)       147584    \n",
            "                                                                 \n",
            " batch_normalization_1 (Batc  (None, 32, 32, 128)      512       \n",
            " hNormalization)                                                 \n",
            "                                                                 \n",
            " conv2d_2 (Conv2D)           (None, 32, 32, 128)       147584    \n",
            "                                                                 \n",
            " batch_normalization_2 (Batc  (None, 32, 32, 128)      512       \n",
            " hNormalization)                                                 \n",
            "                                                                 \n",
            " conv2d_3 (Conv2D)           (None, 32, 32, 128)       147584    \n",
            "                                                                 \n",
            " batch_normalization_3 (Batc  (None, 32, 32, 128)      512       \n",
            " hNormalization)                                                 \n",
            "                                                                 \n",
            " max_pooling2d (MaxPooling2D  (None, 16, 16, 128)      0         \n",
            " )                                                               \n",
            "                                                                 \n",
            " dropout (Dropout)           (None, 16, 16, 128)       0         \n",
            "                                                                 \n",
            " conv2d_4 (Conv2D)           (None, 16, 16, 256)       295168    \n",
            "                                                                 \n",
            " batch_normalization_4 (Batc  (None, 16, 16, 256)      1024      \n",
            " hNormalization)                                                 \n",
            "                                                                 \n",
            " conv2d_5 (Conv2D)           (None, 16, 16, 256)       590080    \n",
            "                                                                 \n",
            " batch_normalization_5 (Batc  (None, 16, 16, 256)      1024      \n",
            " hNormalization)                                                 \n",
            "                                                                 \n",
            " conv2d_6 (Conv2D)           (None, 16, 16, 256)       590080    \n",
            "                                                                 \n",
            " batch_normalization_6 (Batc  (None, 16, 16, 256)      1024      \n",
            " hNormalization)                                                 \n",
            "                                                                 \n",
            " conv2d_7 (Conv2D)           (None, 16, 16, 256)       590080    \n",
            "                                                                 \n",
            " batch_normalization_7 (Batc  (None, 16, 16, 256)      1024      \n",
            " hNormalization)                                                 \n",
            "                                                                 \n",
            " max_pooling2d_1 (MaxPooling  (None, 8, 8, 256)        0         \n",
            " 2D)                                                             \n",
            "                                                                 \n",
            " dropout_1 (Dropout)         (None, 8, 8, 256)         0         \n",
            "                                                                 \n",
            " conv2d_8 (Conv2D)           (None, 8, 8, 256)         590080    \n",
            "                                                                 \n",
            " batch_normalization_8 (Batc  (None, 8, 8, 256)        1024      \n",
            " hNormalization)                                                 \n",
            "                                                                 \n",
            " conv2d_9 (Conv2D)           (None, 8, 8, 256)         590080    \n",
            "                                                                 \n",
            " batch_normalization_9 (Batc  (None, 8, 8, 256)        1024      \n",
            " hNormalization)                                                 \n",
            "                                                                 \n",
            " conv2d_10 (Conv2D)          (None, 8, 8, 256)         590080    \n",
            "                                                                 \n",
            " batch_normalization_10 (Bat  (None, 8, 8, 256)        1024      \n",
            " chNormalization)                                                \n",
            "                                                                 \n",
            " conv2d_11 (Conv2D)          (None, 8, 8, 256)         590080    \n",
            "                                                                 \n",
            " batch_normalization_11 (Bat  (None, 8, 8, 256)        1024      \n",
            " chNormalization)                                                \n",
            "                                                                 \n",
            " max_pooling2d_2 (MaxPooling  (None, 4, 4, 256)        0         \n",
            " 2D)                                                             \n",
            "                                                                 \n",
            " dropout_2 (Dropout)         (None, 4, 4, 256)         0         \n",
            "                                                                 \n",
            " flatten (Flatten)           (None, 4096)              0         \n",
            "                                                                 \n",
            " dense (Dense)               (None, 128)               524416    \n",
            "                                                                 \n",
            " batch_normalization_12 (Bat  (None, 128)              512       \n",
            " chNormalization)                                                \n",
            "                                                                 \n",
            " dropout_3 (Dropout)         (None, 128)               0         \n",
            "                                                                 \n",
            " dense_1 (Dense)             (None, 10)                1290      \n",
            "                                                                 \n",
            "=================================================================\n",
            "Total params: 5,406,218\n",
            "Trainable params: 5,400,842\n",
            "Non-trainable params: 5,376\n",
            "_________________________________________________________________\n"
          ]
        }
      ]
    },
    {
      "cell_type": "code",
      "source": [
        "history = model.fit(X_train, y_train, batch_size=32, epochs=200, validation_data=(X_test, y_test))"
      ],
      "metadata": {
        "id": "quy73NhoUDqz"
      },
      "execution_count": null,
      "outputs": []
    },
    {
      "cell_type": "code",
      "source": [
        "model.evaluate(X_test, y_test)"
      ],
      "metadata": {
        "id": "baaGTkmRUGNW"
      },
      "execution_count": null,
      "outputs": []
    },
    {
      "cell_type": "code",
      "source": [
        "plt.figure(dpi=150)\n",
        "# plt.grid()\n",
        "plt.plot(history.history['loss'])\n",
        "plt.plot(history.history['val_loss'])\n",
        "plt.legend(['loss', 'val_loss'])\n",
        "plt.show()"
      ],
      "metadata": {
        "id": "2WpLPVBaUJNZ"
      },
      "execution_count": null,
      "outputs": []
    },
    {
      "cell_type": "code",
      "source": [
        "plt.figure(dpi=150)\n",
        "# plt.grid()\n",
        "plt.plot(history.history['accuracy'])\n",
        "plt.plot(history.history['val_accuracy'])\n",
        "plt.legend(['accuracy', 'val_accuracy'])\n",
        "plt.show()"
      ],
      "metadata": {
        "id": "FBM9bGHVULuH"
      },
      "execution_count": null,
      "outputs": []
    },
    {
      "cell_type": "code",
      "source": [
        "y_pred = model.predict(X_test)\n",
        "\n",
        "y_pred_labels = [np.argmax(i) for i in y_pred]\n",
        "\n",
        "cm = tf.math.confusion_matrix(labels= y_test, predictions= y_pred_labels, num_classes=num_classes)\n"
      ],
      "metadata": {
        "id": "N5kXvT73FW1h"
      },
      "execution_count": null,
      "outputs": []
    },
    {
      "cell_type": "code",
      "source": [
        "import seaborn as sns\n",
        "plt.figure(dpi=150)\n",
        "sns.heatmap(cm, annot=True, fmt='d')\n",
        "plt.xlabel(\"Predicted\")\n",
        "plt.ylabel(\"Actual\")"
      ],
      "metadata": {
        "id": "Af5XipX4Lvr-"
      },
      "execution_count": null,
      "outputs": []
    }
  ]
}